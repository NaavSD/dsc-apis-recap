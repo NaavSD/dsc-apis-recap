{
 "cells": [
  {
   "cell_type": "markdown",
   "metadata": {},
   "source": [
    "# APIs - Recap"
   ]
  },
  {
   "cell_type": "markdown",
   "metadata": {},
   "source": [
    "## Introduction\n",
    "\n",
    "In this section, you learned about the HTTP request/response cycle and using APIs. APIs are critical to software development, and they can be powerful tools for gathering data for data scientists.\n",
    "\n",
    "## Key Takeaways\n",
    "\n",
    "APIs can provide access to a wide range of data that you might need as a data scientist.\n",
    "\n",
    "Key takeaways include:\n",
    "\n",
    "* While there are many other kinds of APIs, as a data scientist, you'll typically be working with web APIs.\n",
    "* The `requests` library in Python is a great starting point for making HTTP requests to APIs.\n",
    "* Most APIs you encounter will return results in JSON format.\n",
    "* The two most common HTTP methods you'll use when accessing APIs are `GET` (to retrieve information) and `POST` (to send information).\n",
    "* Typically, you'll need to authenticate in some manner to gain access to most APIs - one common method for doing so is using OAuth. "
   ]
  }
 ],
 "metadata": {
  "kernelspec": {
   "display_name": "Python (learn-env)",
   "language": "python",
   "name": "learn-env"
  },
  "language_info": {
   "codemirror_mode": {
    "name": "ipython",
    "version": 3
   },
   "file_extension": ".py",
   "mimetype": "text/x-python",
   "name": "python",
   "nbconvert_exporter": "python",
   "pygments_lexer": "ipython3",
   "version": "3.8.5"
  }
 },
 "nbformat": 4,
 "nbformat_minor": 4
}
